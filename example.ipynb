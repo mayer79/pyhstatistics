{
 "cells": [
  {
   "cell_type": "markdown",
   "id": "8b3162d8",
   "metadata": {},
   "source": [
    "# Friedman's H Statistics of Interaction Strength"
   ]
  },
  {
   "cell_type": "code",
   "execution_count": 24,
   "id": "d05c1641",
   "metadata": {},
   "outputs": [
    {
     "data": {
      "text/html": [
       "<div>\n",
       "<style scoped>\n",
       "    .dataframe tbody tr th:only-of-type {\n",
       "        vertical-align: middle;\n",
       "    }\n",
       "\n",
       "    .dataframe tbody tr th {\n",
       "        vertical-align: top;\n",
       "    }\n",
       "\n",
       "    .dataframe thead th {\n",
       "        text-align: right;\n",
       "    }\n",
       "</style>\n",
       "<table border=\"1\" class=\"dataframe\">\n",
       "  <thead>\n",
       "    <tr style=\"text-align: right;\">\n",
       "      <th></th>\n",
       "      <th>H2</th>\n",
       "      <th>H_unnormalized</th>\n",
       "    </tr>\n",
       "  </thead>\n",
       "  <tbody>\n",
       "    <tr>\n",
       "      <th>('s3', 'bp')</th>\n",
       "      <td>0.002672</td>\n",
       "      <td>0.761117</td>\n",
       "    </tr>\n",
       "    <tr>\n",
       "      <th>('s3', 'bmi')</th>\n",
       "      <td>0.008848</td>\n",
       "      <td>2.513469</td>\n",
       "    </tr>\n",
       "    <tr>\n",
       "      <th>('s3', 's5')</th>\n",
       "      <td>0.005122</td>\n",
       "      <td>2.328607</td>\n",
       "    </tr>\n",
       "    <tr>\n",
       "      <th>('bp', 'bmi')</th>\n",
       "      <td>0.031067</td>\n",
       "      <td>5.726417</td>\n",
       "    </tr>\n",
       "    <tr>\n",
       "      <th>('bp', 's5')</th>\n",
       "      <td>0.016432</td>\n",
       "      <td>4.669894</td>\n",
       "    </tr>\n",
       "    <tr>\n",
       "      <th>('bmi', 's5')</th>\n",
       "      <td>0.020139</td>\n",
       "      <td>6.421637</td>\n",
       "    </tr>\n",
       "  </tbody>\n",
       "</table>\n",
       "</div>"
      ],
      "text/plain": [
       "                     H2  H_unnormalized\n",
       "('s3', 'bp')   0.002672        0.761117\n",
       "('s3', 'bmi')  0.008848        2.513469\n",
       "('s3', 's5')   0.005122        2.328607\n",
       "('bp', 'bmi')  0.031067        5.726417\n",
       "('bp', 's5')   0.016432        4.669894\n",
       "('bmi', 's5')  0.020139        6.421637"
      ]
     },
     "execution_count": 24,
     "metadata": {},
     "output_type": "execute_result"
    }
   ],
   "source": [
    "import matplotlib.pyplot as plt\n",
    "import numpy as np\n",
    "import pandas as pd\n",
    "from sklearn.datasets import load_diabetes\n",
    "from sklearn.ensemble import HistGradientBoostingRegressor\n",
    "from sklearn.inspection import permutation_importance\n",
    "\n",
    "from hstats import h_statistic\n",
    "\n",
    "X, y = load_diabetes(return_X_y=True, as_frame=True)\n",
    "\n",
    "est = HistGradientBoostingRegressor(max_iter=50, max_depth=4).fit(X, y)\n",
    "\n",
    "# Get the top 4 most important features\n",
    "m = 4\n",
    "imp = permutation_importance(est, X, y, random_state=0)\n",
    "top_m = X.columns[np.argsort(imp.importances_mean)[-m:]]\n",
    "\n",
    "# Calculate H statistic for the top features\n",
    "H = h_statistic(est, X=X, features=top_m, random_state=4)\n",
    "\n",
    "H_df = pd.DataFrame(\n",
    "    {\n",
    "        \"H2\": H[\"h_squared_pairwise\"].flatten(),\n",
    "        \"H_unnormalized\": np.sqrt(H[\"numerator_pairwise\"]).flatten(),\n",
    "    },\n",
    "    index=[str(pair) for pair in H[\"feature_pairs\"]],\n",
    ")\n",
    "H_df"
   ]
  },
  {
   "cell_type": "code",
   "execution_count": 25,
   "id": "a9a659f1",
   "metadata": {},
   "outputs": [
    {
     "data": {
      "image/png": "[encoded data removed]",
      "text/plain": [
       "<Figure size 1200x500 with 2 Axes>"
      ]
     },
     "metadata": {},
     "output_type": "display_data"
    }
   ],
   "source": [
    "fig, axes = plt.subplots(1, 2, figsize=(12, 5))\n",
    "\n",
    "for col, title, ax in zip(H_df.columns, (\"$H^2$\", \"Unnormalized $H$\"), axes):\n",
    "    H_df[col].sort_values().plot.barh(ax=ax, title=f\"{title}\", xlabel=f\"{title}\")\n",
    "plt.tight_layout()\n"
   ]
  },
  {
   "cell_type": "markdown",
   "id": "e3b2d85e",
   "metadata": {},
   "source": [
    "The interactions are weak: The strongest one explains only 3% of the combined effect of the two features.\n",
    "\n",
    "To visualize the strongest interaction effects, we could use 2D partial dependence plots."
   ]
  },
  {
   "cell_type": "code",
   "execution_count": null,
   "id": "fd681503",
   "metadata": {},
   "outputs": [],
   "source": []
  }
 ],
 "metadata": {
  "kernelspec": {
   "display_name": ".venv",
   "language": "python",
   "name": "python3"
  },
  "language_info": {
   "codemirror_mode": {
    "name": "ipython",
    "version": 3
   },
   "file_extension": ".py",
   "mimetype": "text/x-python",
   "name": "python",
   "nbconvert_exporter": "python",
   "pygments_lexer": "ipython3",
   "version": "3.12.9"
  }
 },
 "nbformat": 4,
 "nbformat_minor": 5
}
